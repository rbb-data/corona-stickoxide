{
 "cells": [
  {
   "cell_type": "markdown",
   "metadata": {},
   "source": [
    "# Auswertung der Stickoxide\n",
    "\n",
    "Die Stickoxide wurden von unserem Scraper erfasst. Der Endpunkt lautet `https://data.rbb-online.de/nox/data?from=2020-03-03T23%3A00%3A00Z&to=2020-03-19T22%3A59%3A59Z`.\n",
    "\n",
    "Das Notebook lässt sich über folgenden Befehl ausführen:\n",
    "```\n",
    "docker run --rm -p 8889:8888 --ip=0.0.0.0 -v (pwd):/home/jovyan -e CHOWN_HOME=yes -e CHOWN_EXTRA_ARGS=-R --user=root jupyter/scipy-notebook\n",
    "```\n",
    "\n",
    "Alle Dependencies, die nicht im `jupyter/scipy-notebook`-Image definiert sind, werden in der nächsten Zeile installiert."
   ]
  },
  {
   "cell_type": "code",
   "execution_count": 1,
   "metadata": {
    "scrolled": true
   },
   "outputs": [
    {
     "name": "stdout",
     "output_type": "stream",
     "text": [
      "Collecting package metadata: done\n",
      "Solving environment: \\ \n",
      "The environment is inconsistent, please check the package plan carefully\n",
      "The following packages are causing the inconsistency:\n",
      "\n",
      "  - conda-forge/linux-64::blas==2.9=openblas\n",
      "  - conda-forge/linux-64::liblapacke==3.8.0=9_openblas\n",
      "  - conda-forge/linux-64::matplotlib==3.0.3=py37_1\n",
      "  - conda-forge/linux-64::numba==0.42.1=py37hf484d3e_0\n",
      "  - conda-forge/linux-64::openblas==0.3.6=h6e990d7_2\n",
      "- ^C\n",
      "failed\n",
      "\n",
      "CondaError: KeyboardInterrupt\n",
      "\n"
     ]
    }
   ],
   "source": [
    "! conda install altair -y"
   ]
  },
  {
   "cell_type": "code",
   "execution_count": 2,
   "metadata": {},
   "outputs": [],
   "source": [
    "import pandas as pd\n",
    "import numpy as np\n",
    "import altair as alt\n",
    "import json\n",
    "import pytz\n",
    "\n",
    "from helpers import read_nox"
   ]
  },
  {
   "cell_type": "markdown",
   "metadata": {},
   "source": [
    "## Einlesen als Dataframes"
   ]
  },
  {
   "cell_type": "code",
   "execution_count": 3,
   "metadata": {},
   "outputs": [
    {
     "ename": "NameError",
     "evalue": "name 'json' is not defined",
     "output_type": "error",
     "traceback": [
      "\u001b[0;31m---------------------------------------------------------------------------\u001b[0m",
      "\u001b[0;31mNameError\u001b[0m                                 Traceback (most recent call last)",
      "\u001b[0;32m<ipython-input-3-8c5fca251195>\u001b[0m in \u001b[0;36m<module>\u001b[0;34m\u001b[0m\n\u001b[0;32m----> 1\u001b[0;31m \u001b[0mmeasurements\u001b[0m \u001b[0;34m=\u001b[0m \u001b[0mread_nox\u001b[0m\u001b[0;34m(\u001b[0m\u001b[0;34m'./input/2020-02-01--2020-04-06.json'\u001b[0m\u001b[0;34m)\u001b[0m\u001b[0;34m\u001b[0m\u001b[0;34m\u001b[0m\u001b[0m\n\u001b[0m\u001b[1;32m      2\u001b[0m \u001b[0;34m\u001b[0m\u001b[0m\n\u001b[1;32m      3\u001b[0m \u001b[0;31m# drop last day to make sure we only have complete days\u001b[0m\u001b[0;34m\u001b[0m\u001b[0;34m\u001b[0m\u001b[0;34m\u001b[0m\u001b[0m\n\u001b[1;32m      4\u001b[0m \u001b[0mmeasurements\u001b[0m \u001b[0;34m=\u001b[0m \u001b[0mmeasurements\u001b[0m\u001b[0;34m[\u001b[0m\u001b[0mmeasurements\u001b[0m\u001b[0;34m[\u001b[0m\u001b[0;34m'datetime'\u001b[0m\u001b[0;34m]\u001b[0m\u001b[0;34m.\u001b[0m\u001b[0mdt\u001b[0m\u001b[0;34m.\u001b[0m\u001b[0mdayofyear\u001b[0m \u001b[0;34m!=\u001b[0m \u001b[0mmeasurements\u001b[0m\u001b[0;34m[\u001b[0m\u001b[0;34m'datetime'\u001b[0m\u001b[0;34m]\u001b[0m\u001b[0;34m.\u001b[0m\u001b[0mmax\u001b[0m\u001b[0;34m(\u001b[0m\u001b[0;34m)\u001b[0m\u001b[0;34m.\u001b[0m\u001b[0mdayofyear\u001b[0m\u001b[0;34m]\u001b[0m\u001b[0;34m\u001b[0m\u001b[0;34m\u001b[0m\u001b[0m\n\u001b[1;32m      5\u001b[0m \u001b[0mmeasurements\u001b[0m\u001b[0;34m.\u001b[0m\u001b[0mhead\u001b[0m\u001b[0;34m(\u001b[0m\u001b[0;34m)\u001b[0m\u001b[0;34m\u001b[0m\u001b[0;34m\u001b[0m\u001b[0m\n",
      "\u001b[0;32m~/helpers.py\u001b[0m in \u001b[0;36mread_nox\u001b[0;34m(path)\u001b[0m\n\u001b[1;32m      4\u001b[0m     '''\n\u001b[1;32m      5\u001b[0m     \u001b[0;32mwith\u001b[0m \u001b[0mopen\u001b[0m\u001b[0;34m(\u001b[0m\u001b[0mpath\u001b[0m\u001b[0;34m,\u001b[0m \u001b[0;34m'r'\u001b[0m\u001b[0;34m)\u001b[0m \u001b[0;32mas\u001b[0m \u001b[0mf\u001b[0m\u001b[0;34m:\u001b[0m\u001b[0;34m\u001b[0m\u001b[0;34m\u001b[0m\u001b[0m\n\u001b[0;32m----> 6\u001b[0;31m         \u001b[0mresponse\u001b[0m \u001b[0;34m=\u001b[0m \u001b[0mjson\u001b[0m\u001b[0;34m.\u001b[0m\u001b[0mload\u001b[0m\u001b[0;34m(\u001b[0m\u001b[0mf\u001b[0m\u001b[0;34m)\u001b[0m\u001b[0;34m\u001b[0m\u001b[0;34m\u001b[0m\u001b[0m\n\u001b[0m\u001b[1;32m      7\u001b[0m     \u001b[0mdf\u001b[0m \u001b[0;34m=\u001b[0m \u001b[0mpd\u001b[0m\u001b[0;34m.\u001b[0m\u001b[0mDataFrame\u001b[0m\u001b[0;34m(\u001b[0m\u001b[0;34m[\u001b[0m\u001b[0;34m(\u001b[0m\u001b[0md\u001b[0m\u001b[0;34m[\u001b[0m\u001b[0;34m'id'\u001b[0m\u001b[0;34m]\u001b[0m\u001b[0;34m,\u001b[0m \u001b[0md\u001b[0m\u001b[0;34m[\u001b[0m\u001b[0;34m'name'\u001b[0m\u001b[0;34m]\u001b[0m\u001b[0;34m,\u001b[0m \u001b[0md\u001b[0m\u001b[0;34m[\u001b[0m\u001b[0;34m'federalstate'\u001b[0m\u001b[0;34m]\u001b[0m\u001b[0;34m,\u001b[0m \u001b[0mv\u001b[0m\u001b[0;34m[\u001b[0m\u001b[0;34m't'\u001b[0m\u001b[0;34m]\u001b[0m\u001b[0;34m,\u001b[0m \u001b[0mv\u001b[0m\u001b[0;34m[\u001b[0m\u001b[0;34m'y'\u001b[0m\u001b[0;34m]\u001b[0m\u001b[0;34m)\u001b[0m \u001b[0;32mfor\u001b[0m \u001b[0md\u001b[0m \u001b[0;32min\u001b[0m \u001b[0mresponse\u001b[0m\u001b[0;34m[\u001b[0m\u001b[0;34m'data'\u001b[0m\u001b[0;34m]\u001b[0m \u001b[0;32mfor\u001b[0m \u001b[0mv\u001b[0m \u001b[0;32min\u001b[0m \u001b[0md\u001b[0m\u001b[0;34m[\u001b[0m\u001b[0;34m'values'\u001b[0m\u001b[0;34m]\u001b[0m\u001b[0;34m]\u001b[0m\u001b[0;34m,\u001b[0m \u001b[0mcolumns\u001b[0m\u001b[0;34m=\u001b[0m\u001b[0;34m[\u001b[0m\u001b[0;34m'id'\u001b[0m\u001b[0;34m,\u001b[0m \u001b[0;34m'name'\u001b[0m\u001b[0;34m,\u001b[0m \u001b[0;34m'federal_state'\u001b[0m\u001b[0;34m,\u001b[0m \u001b[0;34m'datetime'\u001b[0m\u001b[0;34m,\u001b[0m \u001b[0;34m'val'\u001b[0m\u001b[0;34m]\u001b[0m\u001b[0;34m)\u001b[0m\u001b[0;34m\u001b[0m\u001b[0;34m\u001b[0m\u001b[0m\n\u001b[1;32m      8\u001b[0m     \u001b[0mdf\u001b[0m\u001b[0;34m[\u001b[0m\u001b[0;34m'datetime'\u001b[0m\u001b[0;34m]\u001b[0m \u001b[0;34m=\u001b[0m \u001b[0mpd\u001b[0m\u001b[0;34m.\u001b[0m\u001b[0mto_datetime\u001b[0m\u001b[0;34m(\u001b[0m\u001b[0mdf\u001b[0m\u001b[0;34m[\u001b[0m\u001b[0;34m'datetime'\u001b[0m\u001b[0;34m]\u001b[0m\u001b[0;34m,\u001b[0m \u001b[0mutc\u001b[0m\u001b[0;34m=\u001b[0m\u001b[0;32mTrue\u001b[0m\u001b[0;34m)\u001b[0m\u001b[0;34m\u001b[0m\u001b[0;34m\u001b[0m\u001b[0m\n",
      "\u001b[0;31mNameError\u001b[0m: name 'json' is not defined"
     ]
    }
   ],
   "source": [
    "measurements = read_nox('./input/2020-02-01--2020-04-06.json')\n",
    "\n",
    "# drop last day to make sure we only have complete days\n",
    "measurements = measurements[measurements['datetime'].dt.dayofyear != measurements['datetime'].max().dayofyear]\n",
    "measurements.head()"
   ]
  },
  {
   "cell_type": "code",
   "execution_count": null,
   "metadata": {},
   "outputs": [],
   "source": [
    "# how much data do we have?\n",
    "measurements.count()"
   ]
  },
  {
   "cell_type": "code",
   "execution_count": null,
   "metadata": {},
   "outputs": [],
   "source": [
    "berlin = measurements[measurements['federal_state'] == 'Berlin']\n",
    "brandenburg = measurements[measurements['federal_state'] == 'Brandenburg']"
   ]
  },
  {
   "cell_type": "code",
   "execution_count": null,
   "metadata": {},
   "outputs": [],
   "source": [
    "berlin.groupby(['name', berlin['datetime'].dt.day]).mean()"
   ]
  },
  {
   "cell_type": "markdown",
   "metadata": {},
   "source": [
    "## Plotten\n",
    "\n",
    "Um einen Eindruck zu erhalten, wie unsere Daten für Berlin und Brandenburg aussehen, plotten wir das tägliche Mittel pro Station:"
   ]
  },
  {
   "cell_type": "code",
   "execution_count": null,
   "metadata": {},
   "outputs": [],
   "source": [
    "berlin_daily_avg = berlin.set_index('datetime').groupby('name').resample('D').mean().reset_index()\n",
    "berlin_daily_avg.head()"
   ]
  },
  {
   "cell_type": "code",
   "execution_count": null,
   "metadata": {},
   "outputs": [],
   "source": [
    "alt.Chart(berlin_daily_avg).mark_line(interpolate='basis').encode(\n",
    "    x='datetime:T',\n",
    "    y='val:Q',\n",
    "    color='name:N'\n",
    ")"
   ]
  },
  {
   "cell_type": "code",
   "execution_count": null,
   "metadata": {},
   "outputs": [],
   "source": [
    "brandenburg_daily_avg = brandenburg.set_index('datetime').groupby('name').resample('D').mean().reset_index()\n",
    "brandenburg_daily_avg.head()"
   ]
  },
  {
   "cell_type": "code",
   "execution_count": null,
   "metadata": {},
   "outputs": [],
   "source": [
    "alt.Chart(brandenburg_daily_avg).mark_line(interpolate='basis').encode(\n",
    "    x='datetime:T',\n",
    "    y='val:Q',\n",
    "    color='name:N'\n",
    ")"
   ]
  },
  {
   "cell_type": "markdown",
   "metadata": {},
   "source": [
    "Es scheint nicht so, als ob sich für die letzten zwei Wochen ein klarer Trend abzeichnet. Was man jetzt noch prüfen kann:\n",
    "\n",
    "- Wie war das Wetter in den letzten zwei Wochen?\n",
    "- Wie sieht die Stickstoffbelastung während der Spitzenzeiten aus?"
   ]
  },
  {
   "cell_type": "markdown",
   "metadata": {},
   "source": [
    "## Spitzenzeiten\n",
    "\n",
    "Als Spitzenzeiten gelten Zeiten zwischen 6 und 9 Uhr sowie 16 und 19 Uhr ([siehe Wikipedia](https://de.wikipedia.org/wiki/Verkehrszeiten#Hauptverkehrszeit))."
   ]
  },
  {
   "cell_type": "code",
   "execution_count": null,
   "metadata": {},
   "outputs": [],
   "source": [
    "def in_rush_hour(df):\n",
    "    # we have to reconvert it to get the correct mask across summer and winter time\n",
    "    converted = df['datetime'].dt.tz_convert('Europe/Berlin')\n",
    "    h = converted.dt.hour\n",
    "    return df[((h >= 6) & (h < 9)) | ((h >= 16) & (h < 19))]"
   ]
  },
  {
   "cell_type": "code",
   "execution_count": null,
   "metadata": {},
   "outputs": [],
   "source": [
    "berlin_rush_hour = in_rush_hour(berlin)\n",
    "berlin_rush_hour = berlin_rush_hour.set_index('datetime').groupby('name').resample('D').mean().reset_index()"
   ]
  },
  {
   "cell_type": "code",
   "execution_count": null,
   "metadata": {},
   "outputs": [],
   "source": [
    "alt.Chart(berlin_rush_hour).mark_line(interpolate='basis').encode(\n",
    "    x='datetime:T',\n",
    "    y='val:Q',\n",
    "    color='name:N'\n",
    ")"
   ]
  },
  {
   "cell_type": "code",
   "execution_count": null,
   "metadata": {},
   "outputs": [],
   "source": [
    "brandenburg_rush_hour = in_rush_hour(brandenburg)\n",
    "brandenburg_rush_hour = brandenburg_rush_hour.set_index('datetime').groupby('name').resample('D').mean().reset_index()"
   ]
  },
  {
   "cell_type": "code",
   "execution_count": null,
   "metadata": {},
   "outputs": [],
   "source": [
    "alt.Chart(brandenburg_rush_hour).mark_line(interpolate='basis').encode(\n",
    "    x='datetime:T',\n",
    "    y='val:Q',\n",
    "    color='name:N'\n",
    ")"
   ]
  },
  {
   "cell_type": "markdown",
   "metadata": {},
   "source": [
    "Die Werte sind zwar etwas höher (wie erwartet), aber auch hier ergibt sich keine deutliche Änderung in jüngerer Vergangenheit. Wir versuchen es noch mal mit dem drei- und siebentägigen Mittel:"
   ]
  },
  {
   "cell_type": "code",
   "execution_count": null,
   "metadata": {},
   "outputs": [],
   "source": [
    "def n_day_avg(df, n_days):\n",
    "    '''\n",
    "    Calculates a rolling average over n days\n",
    "    '''\n",
    "    return df.set_index('datetime').resample('D').mean().rolling(n_days).mean().dropna().reset_index()"
   ]
  },
  {
   "cell_type": "code",
   "execution_count": null,
   "metadata": {
    "scrolled": true
   },
   "outputs": [],
   "source": [
    "three_day_avg = n_day_avg(berlin, 3)\n",
    "seven_day_avg = n_day_avg(berlin, 7)\n",
    "\n",
    "alt.hconcat(\n",
    "    alt.Chart(three_day_avg).mark_line(interpolate='basis').encode(x='datetime', y='val'),\n",
    "    alt.Chart(seven_day_avg).mark_line(interpolate='basis').encode(x='datetime', y='val')\n",
    ")"
   ]
  },
  {
   "cell_type": "markdown",
   "metadata": {},
   "source": [
    "Auch nicht.\n",
    "\n",
    "Es gibt [Studien](https://www.sciencedirect.com/science/article/pii/S0048969717319988), die [versuchen](https://www.ncbi.nlm.nih.gov/pmc/articles/PMC3856232/) Verkehr mithilfe von Luftverschmutzung zu schetzen und auch wenn sie vielversprechend sind (also hohe Korellationen von Vorhersagen und tatsächlichen Werten zeigen), gibt es keine, die das zuverlässig auf einem engen Raum tun.\n",
    "\n",
    "Die [Esa Animation](https://www.esa.int/ESA_Multimedia/Videos/2020/03/Coronavirus_nitrogen_dioxide_emissions_drop_over_Italy) hat einen räumlich sehr grobe Auflösung - ganz Europa - zur Grundlage genommen und darauf einen vierzehntägen Durchschnitt berechnet um den Rückgang von Stickoxid in Zusammenhang mit den Ausgangssperren zu zeigen."
   ]
  },
  {
   "cell_type": "markdown",
   "metadata": {},
   "source": [
    "## Außerhalb der Rush Hour"
   ]
  },
  {
   "cell_type": "code",
   "execution_count": null,
   "metadata": {},
   "outputs": [],
   "source": [
    "be_not_in_rush_hour = berlin[~berlin.index.isin(berlin_rush_hour.index)]\n",
    "be_not_in_rush_hour = be_not_in_rush_hour.set_index('datetime').groupby('name').resample('D').mean().reset_index()\n",
    "be_not_in_rush_hour.head()"
   ]
  },
  {
   "cell_type": "code",
   "execution_count": null,
   "metadata": {},
   "outputs": [],
   "source": [
    "alt.Chart(be_not_in_rush_hour).mark_line(interpolate='basis').encode(\n",
    "    x='datetime:T',\n",
    "    y='val:Q',\n",
    "    color='name:N'\n",
    ")"
   ]
  },
  {
   "cell_type": "code",
   "execution_count": null,
   "metadata": {},
   "outputs": [],
   "source": [
    "bb_not_in_rush_hour = brandenburg[~brandenburg.index.isin(brandenburg_rush_hour.index)]\n",
    "bb_not_in_rush_hour = bb_not_in_rush_hour.set_index('datetime').groupby('name').resample('D').mean().reset_index()\n",
    "bb_not_in_rush_hour.head()"
   ]
  },
  {
   "cell_type": "code",
   "execution_count": null,
   "metadata": {},
   "outputs": [],
   "source": [
    "alt.Chart(bb_not_in_rush_hour).mark_line(interpolate='basis').encode(\n",
    "    x='datetime:T',\n",
    "    y='val:Q',\n",
    "    color='name:N'\n",
    ")"
   ]
  },
  {
   "cell_type": "markdown",
   "metadata": {},
   "source": [
    "## Lineare Regression"
   ]
  },
  {
   "cell_type": "code",
   "execution_count": null,
   "metadata": {},
   "outputs": [],
   "source": [
    "from sklearn.linear_model import LinearRegression\n",
    "from sklearn.feature_selection import f_regression"
   ]
  },
  {
   "cell_type": "markdown",
   "metadata": {},
   "source": [
    "### Tägliches Mittel"
   ]
  },
  {
   "cell_type": "code",
   "execution_count": null,
   "metadata": {},
   "outputs": [],
   "source": [
    "daily_avg = berlin.set_index('datetime').resample('D').mean().reset_index()\n",
    "daily_avg.head()"
   ]
  },
  {
   "cell_type": "code",
   "execution_count": null,
   "metadata": {},
   "outputs": [],
   "source": [
    "x = daily_avg['datetime'].values.astype('int64').reshape(-1, 1)\n",
    "y = daily_avg['val'].values.reshape(-1, 1)\n",
    "linear_regressor = LinearRegression()\n",
    "linear_regressor.fit(x, y)\n",
    "linear_regressor.score(x, y)"
   ]
  },
  {
   "cell_type": "markdown",
   "metadata": {},
   "source": [
    "$R^2$ ist fast 0, also gibt es in unserem Datensatz kaum eine Korrelation zwischen Datum und Stickstoffausstoß,"
   ]
  },
  {
   "cell_type": "code",
   "execution_count": null,
   "metadata": {},
   "outputs": [],
   "source": [
    "daily_avg.loc[:,'prediction'] = linear_regressor.predict(x)"
   ]
  },
  {
   "cell_type": "code",
   "execution_count": null,
   "metadata": {},
   "outputs": [],
   "source": [
    "alt.Chart(daily_avg).mark_line().encode(x='datetime', y='prediction')"
   ]
  },
  {
   "cell_type": "markdown",
   "metadata": {},
   "source": [
    "## Weitere Gedanken\n",
    "\n",
    "- Es gibt eine Studie, die Feinstaub (PM2.5) mit einer bestimmten Menge an Zigaretten gleichsetzt. Faustregel: 22 µg PM2.5 $\\approx$ 1 Zigarette [Link](http://berkeleyearth.org/air-pollution-and-cigarette-equivalence/)\n",
    "\n",
    "- Rumgeschwanke von normalen Wochen / vergleichbar mit Geschwanke vor Homeoffice (stddev / Fluktuation)\n",
    "- Wann haben die Leute auf Homeoffice gesetzt?\n",
    "\n",
    "- Die drei niedrigsten Stickoxiddaten in Berlin waren letzte Woche (Christopher)\n",
    "\n",
    "### TODO\n",
    "\n",
    "- Man sollte die höchsten / niedrigsten Werte isolieren und die Effekte da messen\n",
    "- Wir sollten schauen, ob wir für den gesamten Zeitraum Messwerte haben\n",
    "- Die Zeit hat einen [Artikel über die langfristigen Klimaauswirkungen geschrieben](https://www.zeit.de/2020/14/emissionen-corona-krise-klimaschutz-treibhausgase-co2?utm_medium=sm&utm_campaign=ref&utm_content=zeitde_redpost+_link_sf&utm_source=twitter_zonaudev_int&wt_zmc=sm.int.zonaudev.twitter.ref.zeitde.redpost.link.sf), der möglicherweise interessant ist"
   ]
  },
  {
   "cell_type": "markdown",
   "metadata": {},
   "source": [
    "## Export für Götz"
   ]
  },
  {
   "cell_type": "code",
   "execution_count": null,
   "metadata": {},
   "outputs": [],
   "source": [
    "goetz = measurements.copy()\n",
    "goetz['datetime'] = goetz['datetime'].dt.tz_convert('Europe/Berlin')"
   ]
  },
  {
   "cell_type": "code",
   "execution_count": null,
   "metadata": {},
   "outputs": [],
   "source": [
    "def get_weekday(row):\n",
    "    weekdays = ['Monday', 'Tuesday', 'Wednesday', 'Thursday', 'Friday', 'Saturday', 'Sunday']\n",
    "    return weekdays[row['datetime'].weekday()]"
   ]
  },
  {
   "cell_type": "code",
   "execution_count": null,
   "metadata": {},
   "outputs": [],
   "source": [
    "daily_avg_since_feb = goetz.set_index('datetime').groupby(['id', 'name']).resample('24h').mean().reset_index()\n",
    "daily_avg_since_feb['weekday'] = daily_avg_since_feb.apply(get_weekday, axis=1)\n",
    "daily_avg_since_feb.to_csv('daily_avg_since_feb.tsv', sep='\\t')"
   ]
  },
  {
   "cell_type": "code",
   "execution_count": null,
   "metadata": {},
   "outputs": [],
   "source": [
    "daily_std_since_feb = goetz.set_index('datetime').groupby(['id', 'name']).resample('24h').std().reset_index()\n",
    "daily_std_since_feb['weekday'] = daily_std_since_feb.apply(get_weekday, axis=1)\n",
    "daily_std_since_feb.to_csv('daily_std_since_feb.tsv', sep='\\t')"
   ]
  },
  {
   "cell_type": "code",
   "execution_count": null,
   "metadata": {},
   "outputs": [],
   "source": [
    "weekly_avg = goetz.set_index('datetime').groupby(['id', 'name']).resample('1w').mean().reset_index()\n",
    "weekly_avg.to_csv('weekly_avg_since_feb.tsv', sep='\\t')"
   ]
  },
  {
   "cell_type": "code",
   "execution_count": null,
   "metadata": {},
   "outputs": [],
   "source": [
    "weekly_stddev = goetz.set_index('datetime').groupby(['id', 'name']).resample('1w').std().reset_index()\n",
    "weekly_stddev.to_csv('weekly_std_since_feb.tsv', sep='\\t')"
   ]
  },
  {
   "cell_type": "code",
   "execution_count": null,
   "metadata": {},
   "outputs": [],
   "source": [
    "goetz.to_csv('all_values_since_feb.tsv', sep='\\t')"
   ]
  },
  {
   "cell_type": "code",
   "execution_count": null,
   "metadata": {},
   "outputs": [],
   "source": []
  }
 ],
 "metadata": {
  "kernelspec": {
   "display_name": "Python 3",
   "language": "python",
   "name": "python3"
  },
  "language_info": {
   "codemirror_mode": {
    "name": "ipython",
    "version": 3
   },
   "file_extension": ".py",
   "mimetype": "text/x-python",
   "name": "python",
   "nbconvert_exporter": "python",
   "pygments_lexer": "ipython3",
   "version": "3.7.6"
  }
 },
 "nbformat": 4,
 "nbformat_minor": 2
}
